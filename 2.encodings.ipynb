{
 "cells": [
  {
   "cell_type": "code",
   "execution_count": 6,
   "metadata": {},
   "outputs": [
    {
     "name": "stdout",
     "output_type": "stream",
     "text": [
      "Total: 118287 | Done: 0 | Remaining: 118287\n"
     ]
    },
    {
     "name": "stderr",
     "output_type": "stream",
     "text": [
      "Embedding in batches: 100%|██████████| 1849/1849 [13:02:18<00:00, 25.39s/it]  \n"
     ]
    },
    {
     "name": "stdout",
     "output_type": "stream",
     "text": [
      "\n",
      "✅ All 118287 embeddings saved to ./coco_dataset/llava_embeddings.npz\n"
     ]
    }
   ],
   "source": [
    "from sentence_transformers import SentenceTransformer\n",
    "from tqdm import tqdm\n",
    "import json\n",
    "import numpy as np\n",
    "import os\n",
    "import time\n",
    "\n",
    "# --- Config ---\n",
    "captions_path = \"./coco_dataset/llava_captions.json\"\n",
    "checkpoint_path = \"./coco_dataset/llava_embeddings_checkpoint.json\"\n",
    "final_output_path = \"./coco_dataset/llava_embeddings.npz\"\n",
    "batch_size = 64  # Much faster with batches\n",
    "\n",
    "# --- Load all captions ---\n",
    "with open(captions_path, \"r\") as f:\n",
    "    all_captions = json.load(f)\n",
    "\n",
    "# --- Load checkpoint if exists ---\n",
    "if os.path.exists(checkpoint_path):\n",
    "    with open(checkpoint_path, \"r\") as f:\n",
    "        checkpoint = json.load(f)\n",
    "else:\n",
    "    checkpoint = {}\n",
    "\n",
    "# --- Setup ---\n",
    "model = SentenceTransformer(\"all-MiniLM-L6-v2\")\n",
    "pending_items = [(img_id, cap) for img_id, cap in all_captions.items() if img_id not in checkpoint]\n",
    "\n",
    "print(f\"Total: {len(all_captions)} | Done: {len(checkpoint)} | Remaining: {len(pending_items)}\")\n",
    "\n",
    "# --- Batching loop ---\n",
    "for i in tqdm(range(0, len(pending_items), batch_size), desc=\"Embedding in batches\"):\n",
    "    batch = pending_items[i:i + batch_size]\n",
    "    ids = [img_id for img_id, _ in batch]\n",
    "    texts = [caption for _, caption in batch]\n",
    "\n",
    "    try:\n",
    "        embeddings = model.encode(texts, show_progress_bar=False)\n",
    "    except Exception as e:\n",
    "        print(f\"❌ Error embedding batch starting at index {i}: {e}\")\n",
    "        continue\n",
    "\n",
    "    # Add results to checkpoint\n",
    "    for img_id, embedding in zip(ids, embeddings):\n",
    "        checkpoint[img_id] = embedding.tolist()\n",
    "\n",
    "    # Save safely using a temp file to avoid corruption\n",
    "    tmp_path = checkpoint_path + \".tmp\"\n",
    "    with open(tmp_path, \"w\") as f:\n",
    "        json.dump(checkpoint, f)\n",
    "    os.replace(tmp_path, checkpoint_path)\n",
    "\n",
    "# --- Final Save ---\n",
    "image_ids = list(checkpoint.keys())\n",
    "embedding_matrix = np.array([checkpoint[img_id] for img_id in image_ids])\n",
    "np.savez_compressed(final_output_path, image_ids=image_ids, embeddings=embedding_matrix)\n",
    "\n",
    "print(f\"\\n✅ All {len(image_ids)} embeddings saved to {final_output_path}\")\n"
   ]
  }
 ],
 "metadata": {
  "kernelspec": {
   "display_name": ".venv",
   "language": "python",
   "name": "python3"
  },
  "language_info": {
   "codemirror_mode": {
    "name": "ipython",
    "version": 3
   },
   "file_extension": ".py",
   "mimetype": "text/x-python",
   "name": "python",
   "nbconvert_exporter": "python",
   "pygments_lexer": "ipython3",
   "version": "3.11.9"
  }
 },
 "nbformat": 4,
 "nbformat_minor": 2
}
